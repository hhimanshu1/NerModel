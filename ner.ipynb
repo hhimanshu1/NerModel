{
 "cells": [
  {
   "cell_type": "code",
   "execution_count": 1,
   "metadata": {},
   "outputs": [],
   "source": [
    "import spacy\n",
    "from spacy.tokens import DocBin\n",
    "from tqdm import tqdm\n",
    "\n",
    "nlp=spacy.blank('en')  # load a new spacy model\n",
    "db=DocBin()  # create a Docbin object"
   ]
  },
  {
   "cell_type": "code",
   "execution_count": 2,
   "metadata": {},
   "outputs": [],
   "source": [
    "import json\n",
    "f=open(\"H:\\\\Ner_Model\\\\train2.json\",encoding=\"utf8\")\n",
    "train_data=json.load(f)"
   ]
  },
  {
   "cell_type": "code",
   "execution_count": 3,
   "metadata": {},
   "outputs": [
    {
     "data": {
      "text/plain": [
       "[[\"Abhishek Jha Application Development Associate - Accenture Bengaluru, Karnataka - Email me on Indeed: indeed.com/r/Abhishek-Jha/10e7a8cb732bc43a To work for an organization which provides me the opportunity to improve my skills and knowledge for my individual and company's growth in best possible ways. Willing to relocate to: Bangalore, Karnataka WORK EXPERIENCE Application Development Associate Accenture -November 2017 to Present Role: Currently working on Chat-bot. Developing Backend Oracle PeopleSoft Queries for the Bot which will be triggered based on given input. Also, Training the bot for different possible utterances (Both positive and negative), which will be given asinput by the user. EDUCATION B.E in Information science and engineering B.v.b college of engineering and technology -  Hubli, Karnataka August 2013 to June 2017 12th in Mathematics Woodbine modern school April 2011 to March 2013 10th Kendriya Vidyalaya April 2001 to March 2011 SKILLS C (Less than 1 year), Database (Less than 1 year), Database Management (Less than 1 year),Database Management System (Less than 1 year), Java (Less than 1 year) ADDITIONAL INFORMATION Technical Skills https://www.indeed.com/r/Abhishek-Jha/10e7a8cb732bc43a?isid=rex-download&ikw=download-top&co=IN Programming language: C, C++, Java Oracle People Soft Internet Of Things Machine Learning Database Management System Computer Networks Operating System worked on: Linux, Windows, MacNon - Technical Skills Honest and Hard-Working Tolerant and Flexible to Different Situations Polite and Calm Team-Player\\r\",\n",
       "  {'entities': [[0, 12, 'NAME'],\n",
       "    [13, 68, 'DESIGNATION'],\n",
       "    [102, 144, 'EMAIL'],\n",
       "    [713, 819, 'COLLEGE'],\n",
       "    [845, 887, 'INTERMEDIATE'],\n",
       "    [913, 942, 'MATRICULATION'],\n",
       "    [969, 989, 'SKILLS'],\n",
       "    [991, 1018, 'SKILLS'],\n",
       "    [1020, 1058, 'SKILLS'],\n",
       "    [1059, 1104, 'SKILLS'],\n",
       "    [1106, 1129, 'SKILLS'],\n",
       "    [1288, 1289, 'SKILLS'],\n",
       "    [1291, 1294, 'SKILLS'],\n",
       "    [1356, 1382, 'SKILLS'],\n",
       "    [1401, 1417, 'SKILLS']]}],\n",
       " ['Afreen Jamadar Active member of IIIT Committee in Third year Sangli, Maharashtra - Email me on Indeed: indeed.com/r/Afreen-Jamadar/8baf379b705e37c6I wish to use my knowledge, skills and conceptual understanding to create excellent teamenvironments and work consistently achieving organization objectives believes in taking initiative and work to excellence in my work. WORK EXPERIENCE Active member of IIIT Committee in Third year Cisco Networking -  Kanpur, Uttar Pradesh organized by Techkriti IIT Kanpur and Azure Skynet. PERSONALLITY TRAITS: Quick learning ability hard working EDUCATIONPG-DACCDAC ACTS 2017 Bachelor of Engg in Information Technology Shivaji University Kolhapur -  Kolhapur, Maharashtra 2016 SKILLS Database (Less than 1 year), HTML (Less than 1 year), Linux (Less than 1 year), MICROSOFT ACCESS (Less than 1 year), MICROSOFT WINDOWS (Less than 1 year)ADDITIONAL INFORMATION TECHNICAL SKILLS: Programming Languages: C, C++, Java, .net, php. Web Designing: HTML, XML Operating Systems: Windows […] Windows Server 2003, Linux. Database: MS Access, MS SQL Server 2008, Oracle 10g, MySql.https://www.indeed.com/r/Afreen-Jamadar/8baf379b705e37c6?isid=rex-download&ikw=download-top&co=IN\\r',\n",
       "  {'entities': [[0, 14, 'NAME'],\n",
       "    [15, 80, 'WORKED AT'],\n",
       "    [103, 148, 'EMAIL'],\n",
       "    [385, 457, 'WORKED AT'],\n",
       "    [612, 694, 'COLLEGE'],\n",
       "    [720, 747, 'SKILLS'],\n",
       "    [749, 772, 'SKILLS'],\n",
       "    [774, 798, 'SKILLS'],\n",
       "    [937, 938, 'SKILLS'],\n",
       "    [940, 943, 'SKILLS'],\n",
       "    [945, 949, 'SKILLS'],\n",
       "    [951, 955, 'SKILLS'],\n",
       "    [957, 961, 'SKILLS'],\n",
       "    [966, 981, 'SKILLS'],\n",
       "    [987, 1004, 'SKILLS']]}],\n",
       " [\"Akhil Yadav Polemaina Hyderabad, Telangana - Email me on Indeed: indeed.com/r/Akhil-Yadav-Polemaina/f6931801c51c63b1 Senior System Engineer at Infosys with 3.2 years of experience in software development and Maintenance. Maintained data processing using main frame technology for multiple front end applications of Walmart Retail Link platform and ensured on-time deliverables.  Worked on automating the uses cases to reduce manual effort in solving repeating incidents using Service Now orchestration. Possess good analytical, logical ability and systematic approach to problem analysis, strongdebugging and troubleshooting skills.  Good exposure to Retail domain.Willing to relocate to: hyderbad, Telangana WORK EXPERIENCE Senior Systems Engineer Infosys Limited -  Hyderabad, Telangana -January 2015 to Present  Working on all the Major and Minor Enhancement requests as part of Maintenance and Support activities  Identifying and fixing all the major defects in the applications, perform root cause analysis for production issues  Being a subject matter expert, involved in multiple Knowledge transfer and knowledge sharing sessions with the client  Leading a peer group and taking end to end responsibilities for all the critical issues/enhancements.  Identifying the use cases which can be automated using Service Now Orchestration  Creating workflows to automate various tasks which involved manual intervention  Direct interaction with the client on various business impacting issues on a daily basis  Setting up Weekly Status Review meetings and Code Review meetings with the client Senior Systems Engineer Infosys Limited -  Hyderabad, Telangana -January 2015 to Present Team Size # 5Project Objective:Providing end to end Maintenance and Support activity for data processing of the most critical andimportant Web portal 'Retail Link' along with over 40 applications used daily by all the Suppliers and Business users of Walmart, the largest retailer in the world. Retail link is a portal which hosts 100's of applications developed across technologies for the suppliers which help them to carryon day-to-day activities right from on boarding to tracking their sales. This involves supporting https://www.indeed.com/r/Akhil-Yadav-Polemaina/f6931801c51c63b1?isid=rex-download&ikw=download-top&co=IN https://www.indeed.com/r/Akhil-Yadav-Polemaina/f6931801c51c63b1?isid=rex-download&ikw=download-top&co=IN various Decision Support System reports which helps the higher management to take business critical decisions. Responsibilities:  Working on all the Major and Minor Enhancement requests as part of Maintenance and Support activities Identifying and fixing all the major defects in the applications, perform root cause analysis for production issues  Being a subject matter expert, involved in multiple Knowledge transfer and knowledge sharing sessions with the client  Leading a peer group and taking end to end responsibilities for all the critical issues/enhancements.  Identifying the use cases which can be automated using Service Now Orchestration  Creating workflows to automate various tasks which involved manual intervention  Direct interaction with the client on various business impacting issues on a daily basis  Setting up Weekly Status Review meetings and Code Review meetings with the client EDUCATION Electrical and Electronics Engineering  Anurag College of Engineering (Jntuh) SKILLSservicenow (1 year), Mainframe (3 years), cobol (3 years), Jcl (3 years), Teradata (3 years)ADDITIONAL INFORMATION Technical Skills Domain - Retail Technology - Mainframe (COBOL, JCL, DB2, Teradata), Service now. Operating System - Mainframe (z/OS) Database - DB2, SQL, Teradata. Utilities - FILE-AID, IDCAMS, DFSORT basics, LIBRARIAN, FTP/SFTP, CA-7 basics. Tools - Query Management Tool (QMF), SQL Assistant, Service now, Remedy. Key Strengths:  Effective Communication Skills and Zeal to learn. Flexibility and Adaptability.  Good Leadership Qualities.  Analytical and Problem Solving Skills. Achievements:  Received STAR award for working on various system improvement and automation activities  Received multiple INSTA awards for my performance in the projects worked.\\r\",\n",
       "  {'entities': [[0, 11, 'NAME'],\n",
       "    [65, 116, 'EMAIL'],\n",
       "    [117, 203, 'WORKED AT'],\n",
       "    [3455, 3470, 'SKILLS'],\n",
       "    [3472, 3485, 'SKILLS'],\n",
       "    [3487, 3505, 'SKILLS'],\n",
       "    [3662, 3676, 'SKILLS'],\n",
       "    [3678, 3681, 'SKILLS'],\n",
       "    [3780, 3801, 'SKILLS']]}],\n",
       " ['Alok Khandai Operational Analyst (SQL DBA) Engineer - UNISYS Bengaluru, Karnataka - Email me on Indeed: indeed.com/r/Alok-Khandai/5be849e443b8f467  Having 3.5 Years of IT experience in SQL Database Administration, System Analysis, Design, Development & Support of MS SQL Servers in Production, Development environments & Replication and Cluster Server Environments.  Working Experience with relational database such as SQL.  Experience in Installation, Configuration, Maintenance and Administration of SQL Server.  Experience in upgrading SQL Server.  Good experience with implementing DR solution, High Availability of database servers using Database mirroring and replications and Log Shipping.  Experience in implementing SQL Server security and Object permissions like maintaining Database authentication modes, creation of users, configuring permissions and assigning roles to users.  Experience in creating Jobs, Alerts, SQL Mail Agent  Experience in performing integrity checks. Methods include configuring the database maintenance plan wizard and DBCC utilities  Experience in using Performance Monitor, SQL Profiler and optimizing the queries, tracing long running queries and deadlocks.  Experience in applying patches and service packs to keep the database at current patch level.  Ability to manage own work and multitask to meet tight deadlines without losing sight of priorities..Willing to relocate to: Bengaluru, Karnataka WORK EXPERIENCE Operational Analyst (SQL DBA) Engineer UNISYS -  Bengaluru, Karnataka -July 2016 to Present  Having 3.5 Years of IT experience in SQL Database Administration, System Analysis, Design, Development & Support of MS SQL Servers in Production, Development environments & Replication and Cluster Server Environments.  Working Experience with relational database such as SQL.  Experience in Installation, Configuration, Maintenance and Administration of SQL Server.   Experience in upgrading SQL Server.  Good experience with implementing DR solution, High Availability of database servers using Database mirroring and replications and Log Shipping.  Experience in implementing SQL Server security and Object permissions like maintaining Database authentication modes, creation of users, configuring permissions and assigning roles to users. DBA Support Analyst Microsoft Corporation -  Redmond, WA -https://www.indeed.com/r/Alok-Khandai/5be849e443b8f467?isid=rex-download&ikw=download-top&co=IN July 2016 to Present Client Description: Microsoft Corporation is an American public multinational corporation headquartered in Redmond, Washington, USA that develops, manufactures, licenses, and supports a wide range of products and services predominantly related to computing through its various product divisions. Environment: Microsoft has E2E development and production environment of more than 25000 servers and applications. We are responsible for pro-active monitoring of all the servers and their jobs using monitoring tools to reduce critical business impact by alerting respective peer teams. Microsoft Service Enterprise an ITSM tools are used for ticketing and SharePoint portal is used to store all technical and process documentation. Roles and Responsibilities: Responsible for Database support, troubleshooting, planning and migration. Resource planning and coordination for application migrations with project managers, application and web appteams. Project involved guidance and adherence to standardized procedures for planned datacenter consolidation for worldwide centers using in-house corporate and third party applications based on SQL 2000 in upgrade project to SQL 2005. Monitoring of database size and disk space in Production, Staging & Development environments Performed installation of SQL Enterprise 2005 64bit version on Windows 2003 servers on Enterprise systems of clustered and standalone servers in enterprise Data Centers. Patch applications. Fail over cluster testing and resolution on HP servers as well as monitoring and backup reporting setup with Microsoft Operations Manager and backup teams. Working in Microsoft production environment which includes applications and servers. Configured Transactional Replication and Log Shipping with SQL Server Management Studio as well as basic account management and troubleshooting with connectivity, security and firewall issues. Handling issues related to Server Availability, Performance. Performed Production support and on Call duties Conducted Performance Tuning using SQL Profiler and Windows Performance Monitor. Worked with various business groups while developing their applications, assisting in database design, installing SQL Server clients, phasing from development to QA and to Production environment. Previous Project  Project Title: Finance Support  Client: Costco Wholesale Corporation (USA)  Team size: 22  Role: DBA Support Analyst  Environment: Window 10(SQL DBA Analyst) Engineer HCL Technologies -  Bengaluru, Karnataka -November 2014 to July 2016 Performed server installation and configurations for SQL Server 2005 and SQL Server 2000. Performed installation of SQL Server Service Packs Upgraded databases from SQL Server 2000 to SQL Server 2005. Scheduled Full and Transactional log backups for the user created and system databases in the production environment using the Database Maintenance Plan Wizard. Setup backup and restoration jobs for development and QA environments Created transactional replication for the reporting applications. Implemented disaster recovery solution at the remote site for the production databases usingLog Shipping. Used System monitor to find the bottlenecks in CPU, Disk I/O and memory devices andimproved the database server performance. Used SQL Server Profiler to monitor and record database activities of particular users andapplications. Used DBCC commands to troubleshoot issues related to database consistency Worked with various business groups while developing their applications, assisting in database design, installing SQL Server clients, phasing from development to QA and to Production environment Microsoft Corporation -November 2014 to July 2016Client Description:  Costco Wholesale Corporation operates an international chain of membership warehouses,mainly under the \\\\\"Costco Wholesale\\\\\" name, that carry quality, brand name merchandise at substantially lower prices than are typically found at conventional wholesale or retail sources. The warehouses are designed to help small-to-medium-sized businesses reduce costs in purchasing for resale and for everyday business use. Individuals may also purchase for their personal needs.  Responsibilities: Performed server installation and configurations for SQL Server 2005 and SQL Server 2000. Performed installation of SQL Server Service Packs Upgraded databases from SQL Server 2000 to SQL Server 2005. Scheduled Full and Transactional log backups for the user created and system databases in the production environment using the Database Maintenance Plan Wizard. Setup backup and restoration jobs for development and QA environments Created transactional replication for the reporting applications. Implemented disaster recovery solution at the remote site for the production databases usingLog Shipping. ➢ Used System monitor to find the bottlenecks in CPU, Disk I/O and memory devices and improvedthe database server performance. ➢ Used SQL Server Profiler to monitor and record database activities of particular users and applications. ➢ Used DBCC commands to troubleshoot issues related to database consistency ➢ Worked with various business groups while developing their applications, assisting in database design, installing SQL Server clients, phasing from development to QA and to Production environment EDUCATION B.Tech in Computer Science and Engineering in CSE Indira Gandhi Institute Of Technology 2012 SKILLS Database (3 years), SQL (3 years), Sql Dba ADDITIONAL INFORMATION TECHNICAL PROFICIENCY  Operating Environment: […] Windows95/98/XP/NT  Database Tool: SQL Management Studio (MSSQL), BusinessDevelopment Studio, Visual studio 2005  Database Language: SQL, PL/SQL  Ticket Tracking Tool: Service Now  Reporting Tools: MS Reporting Services, SAS  Languages: C, C++, PL/SQL.\\r',\n",
       "  {'entities': [[0, 12, 'NAME'],\n",
       "    [13, 32, 'WORKED AT'],\n",
       "    [104, 146, 'EMAIL'],\n",
       "    [155, 212, 'WORKED AT'],\n",
       "    [367, 423, 'WORKED AT'],\n",
       "    [7778, 7865, 'COLLEGE'],\n",
       "    [7878, 7896, 'SKILLS'],\n",
       "    [7898, 7911, 'SKILLS'],\n",
       "    [8231, 8232, 'SKILLS'],\n",
       "    [8234, 8237, 'SKILLS'],\n",
       "    [8239, 8245, 'SKILLS']]}],\n",
       " ['Ananya Chavan lecturer - oracle tutorials Mumbai, Maharashtra - Email me on Indeed: indeed.com/r/Ananya-Chavan/738779ab71971a96 Seeking a responsible job with an opportunity for professional challenges and utilize my skillsup to its extreme. WORK EXPERIENCE lecturer Oracle tutorials -  Mumbai, Maharashtra -April 2016 to Present for computer science (STD 11th and 12th) (2 years)  Worked at \\\\\"Dr.Babasaheb Ambedkar College, Chembur (W) \\\\\" as a lecturer for  B.Sc. (Computer Science & Information Technology) F.Y.J.C. (Computer Science & I.T.) S.Y.J.C. (Computer Science & I.T.)  Worked at \\\\\"LIVE\\\\\" as a Head of the IT Department and Lecturer for Web designing.  Worked at \\\\\"Kohinoor College Of Hotel Management\\\\\" as visiting lecturer for SEMI.  Working at \\\\\"ORACLE TUTORIALS\\\\\" as a lecturer for computer science (STD 11th and 12th)EDUCATION MCA Mumbai University -  Mumbai, Maharashtra B.Sc. in Com.Sci Mumbai University -  Mumbai, Maharashtra SKILLS SEARCH ENGINE MARKETING (2 years), SEM (2 years), ACCESS (Less than 1 year), AJAX (Lessthan 1 year), APACHE (Less than 1 year) ADDITIONAL INFORMATION Technical skills: Languages: C, C++, Java (J2EE), Web Component APIS: Jdbc, Servlet, JSP. Frameworks: Spring 4 & Struts 2ORM Framework: Hibernate Web Development: Html5, CSS3, Java Script, Ajax & JQuery, Angular Js https://www.indeed.com/r/Ananya-Chavan/738779ab71971a96?isid=rex-download&ikw=download-top&co=IN https://www.indeed.com/r/Ananya-Chavan/738779ab71971a96?isid=rex-download&ikw=download-top&co=INApplication Servers: Apache Tomcat, IDE: Eclipse, Netbeans Database: Ms-Access, Mysql Operating Systems: Windows 7, 8, 10FTP Client: Filezilla Versioning Tools: GitProject Details:\\\\\"Real Estate Application\\\\\" (Client: Global Realtor PVT. LTD Pune) Front-End: Java (J2EE), JDBC, Servlet, JSP, Jquery.Back end: Mysql.Duration: 6 Month (Internship) Company Name: AryanTech India Pvt. Ltd. Pune My Role: Developer as Trainee. Module: Module 4. Description: Developed as a MCA Final SEM Project for \\\\\"Global Realtors PVT.LTD, Hinjewadi, Pune.\\\\\"The Real Estate Web Application is an interactive, effective and revenue-generating website designed for the Real Estate Industry. The main objective of this application is to help the RealEstate Company to display unlimited number of property listings on the website.\\\\\"Beauty Parlor Management System\\\\\" (B.Sc. (Com.Sci.))Tool: VB 6.0Language: VBDatabase: MS-Access Operating System: Windows XP The Beauty Parlor Management System is an easy and effective system to use. The main features of this system are to avoid manual work and keep storing all appointments of customers. \\\\\"Web Designing Project (Reptiles.com) \\\\\" (B.Sc. (Com.Sci.)) Language: HTML and ASPTool: Dreamweaver 8.0 Database: MS-Access Operating System: Windows XP The Reptiles.com is a simple informative site. The main features of this system are to give all information of Snakes.\\r',\n",
       "  {'entities': [[0, 13, 'NAME'],\n",
       "    [84, 127, 'EMAIL'],\n",
       "    [242, 293, 'WORKED AT'],\n",
       "    [604, 661, 'WORKED AT'],\n",
       "    [952, 985, 'SKILLS'],\n",
       "    [987, 1000, 'SKILLS'],\n",
       "    [1002, 1027, 'SKILLS'],\n",
       "    [1029, 1051, 'SKILLS'],\n",
       "    [1053, 1078, 'SKILLS'],\n",
       "    [1131, 1132, 'SKILLS'],\n",
       "    [1134, 1137, 'SKILLS'],\n",
       "    [1139, 1143, 'SKILLS'],\n",
       "    [1278, 1289, 'SKILLS'],\n",
       "    [1291, 1304, 'SKILLS'],\n",
       "    [1306, 1316, 'SKILLS']]}],\n",
       " [\"Anvitha Rao Automation developer- Email me on Indeed: indeed.com/r/Anvitha-Rao/9d6acc68cc30c71c Seeking a software development internship position for Summer 2018 that utilizes my technical skills, education and passion for solving interesting problems as a software professional. Willing to relocate: Anywhere WORK EXPERIENCE Automation developer SAP Labs -  Bengaluru, Karnataka -August 2016 to August 2017 Worked as an automation developer in the development of cloud based Human capital management System and Integration frameworks Dell Boomi and SAP HANA Cloud Platform Integration.  Development of automation framework using Java Selenium and RestFul API's for payroll projects.  Collaborating with customers on migrating Payroll projects to SAP HANA Cloud Platform Integration.  Involved in regression, unity, functionality, performance, sanity and acceptance test driven development process. InternSAP Labs -  Bengaluru, Karnataka -February 2016 to July 2016 Worked on migrating Business intelligence tool, Universe Design Tool in Visual Studio using C++.  Automation of test cases for identifying operations supported by databases using Java.  Tools: Universe Design Tool, Information Design Tool, Webi and Perforce. Projects: GeoSpark Integrated with Apache Hadoop  Identifies top 50 pick up points in New York city based on distributed New York taxi data using Apache Spark and Scala. Iaas Implementation: Cloud application for Image Recognition  This project uses Amazon S3, SQS and EC2 instances to provide Image recognition service tousers by implementing load balancing and web services. Spam Detection  Identifying spam messages using Natural Language processing techniques in python. Analysis of Financial Data https://www.indeed.com/r/Anvitha-Rao/9d6acc68cc30c71c?isid=rex-download&ikw=download-top&co=IN  Exploratory data analysis of stock prices using various data visualization techniques in pandas and d3.js Effective prediction and prevention of air pollution caused due to automobiles using IoT and data analytics techniques  Analyzes pollutants at different geographical locations and suggests a least polluted route onan android application.  Co-authored a paper --Ref link: http://www.ijrcct.org/index.php/ojs/article/view/1416EDUCATIONMasters in Computer Science Arizona State University -  Tempe, AZSeptember 2019 Bachelor of Engineering in Computer Science M S Ramaiah Institute of Technology -  Bengaluru, Karnataka September 2012 to June 2016 SKILLS JAVA (1 year), C++ (Less than 1 year), Hadoop (Less than 1 year), HADOOP (Less than 1 year), CSS (Less than 1 year) LINKS https://www.linkedin.com/in/anvitha-d-rao-65a068a7 ADDITIONAL INFORMATION Technical Skills: Programming Languages: C, C++, HTML/CSS, Java, Python, Javascript Technologies: IoT, MySQL, PostgreSQL, D3js, Hadoop and Spark, Gephi https://www.linkedin.com/in/anvitha-d-rao-65a068a7\\r\",\n",
       "  {'entities': [[0, 11, 'NAME'],\n",
       "    [54, 95, 'EMAIL'],\n",
       "    [327, 408, 'WORKED AT'],\n",
       "    [422, 508, 'WORKED AT'],\n",
       "    [589, 684, 'WORKED AT'],\n",
       "    [2482, 2495, 'SKILLS'],\n",
       "    [2497, 2519, 'SKILLS'],\n",
       "    [2521, 2546, 'SKILLS'],\n",
       "    [2575, 2597, 'SKILLS'],\n",
       "    [2719, 2720, 'SKILLS'],\n",
       "    [2722, 2725, 'SKILLS'],\n",
       "    [2727, 2735, 'SKILLS'],\n",
       "    [2737, 2741, 'SKILLS'],\n",
       "    [2743, 2749, 'SKILLS'],\n",
       "    [2781, 2786, 'SKILLS'],\n",
       "    [2788, 2798, 'SKILLS'],\n",
       "    [2806, 2822, 'SKILLS'],\n",
       "    [2836, 2880, 'LINKEDIN']]}],\n",
       " ['Arjun ks Senior Program coordinator - oracle India Limited Bangalore City, Karnataka - Email me on Indeed: indeed.com/r/arjun-ks/8e9247624a5095b4 Seeking a position in a company where I can use my familiarity of the field and my educational background for the profit of the company. My individuality as well as past know-how should help me in causative to the overall intensification of the company. SnapsExpertise, Certification and Training  I am a Post Graduate in MBA with a total work experience of 6.8 years  3.3 years in IT. Currently working as a Senior Program coordinator. 3.5 years in BPO voice support,  Good work ethics with excellent communication and inter personal skills.  Capable to delve into the new leading Technologies.  Pro active and self starter with the great ability of leadership.  Ability to work well in both a team environment and individually.  Able to handle multiple projects under tight deadlines.  Able to develop excellent rapport with peers, professionals and managers.  Trained on PMP (project management professional) Course  Diploma in Office Application {Ms-excel, Ms-word & Ms PowerPoint}  Diploma in Tally 9.0  Milestone 2.0 from Infosys  Coach the coach from Infosys  Analytical ability from Infosys  Diffusion skills from Infosys  Personality development program from Bouyance  National entrepreneurship network training from NENWilling to relocate to: Bangalore, Karnataka WORK EXPERIENCE senior program coordinator oracle -  Bengaluru, Karnataka -2014 to Present Managing Oracle’s LMS system and assist all processes supporting Employee/Partner trainings, registrations, and online publication, also provide support for Oracle\\'s LMS systems. Process Specialist Infosys -  Bengaluru, Karnataka - https://www.indeed.com/r/arjun-ks/8e9247624a5095b4?isid=rex-download&ikw=download-top&co=IN July 2011 to December 2014 Responsibility Areas:  Daily, Weekly and Monthly performance monitoring.  Quality monitoring of advisors and to identify area of improvement.  Customer satisfaction monitoring and providing feedback to improve customer experience.  Facilitating interactions with various support functions such as HR, Command centre (workforce management team), finance, and transport teams.  Preparing Balance Score Card for the associates.  Matching the contract of the client and rostering agents.  Manage sectors on a shift basis.  Seat utilization plan. (Physical Resource allocation)  Coaching and mentoring the team members to improve on productivity and accuracy.  Holding Process review meetings with the senior management to review performance on an ongoing basis.  Imparting training to team members on regular basis.  Mentor new team leaders on the Floor. Has been a technical training resource for all New Hires including Team Leaders.  Have been conducting the Operations orientation programs for the new joiners on the floor.  Manage escalated customer enquiries / complaints, Share best practices across the  Process & facilitate process improvements initiatives.  Monitoring and evaluating the existing processes, performance and SOPs of each agent against committed SLA’s. Imparting timely feedback and reporting to the India and UK leadership team on process. EDUCATION mba in human resource sikkim manipal university -  Bengaluru, Karnataka June 2012 to June 2014 B.COM. in Marketing, Accountancy College Bangalore University -  Bengaluru, Karnataka 2011 SKILLS PMP trained six sigma yellow belt LINKS https://www.linkedin.com/in/arjun-k-s-31388627/ ADDITIONAL INFORMATION Areas of Expertise https://www.linkedin.com/in/arjun-k-s-31388627/  Part of Recruitment team to hire process executives for Organization. Possess excellent interpersonal, communication and organizational skills with proven abilities in team management, customer relationship management and planning.  Able to coordinate with different support teams like Training, MIS, Technology and Quality to successfully implement projects  Able to manage teams as per SOPs (Standard Operating Procedures) ISO […] and ensure compliance to SLA\\'s and international standards.  Overseeing operations and ensuring achievement of desired objectives.  Driving day-to-day functions with key focus on bottom line profitability by ensuring optimal Resource utilization.  People Management & Team Building  Training, development, work allocation & goal setting and performance appraisal of executives.  Putting systemic quality monitoring procedures in place to ensure SLA\\'s are met & exceeded.  Anticipate, organize & present information needed by management & client. Putting Security measures in place to ensure information security & data integrity. Achievements Multiple appreciations from Managers and Requesters for being customer centric and proactive  Throughout the carrier rating was \\\\\"Significantly above the peer group\\\\\"  Received number of appreciation mails from client and as well from management. Professional Competence  Hardworking Team Player with good communication & interpersonal skills.  Mentored new joiners, organized sessions and training for the process.  Willing to learn new concepts and take up larger responsibilities.  Have good understanding of SLA and how they relate to my performance in order to deliveraccording to client expectations.  Have working knowledge of staffing practices at the shift level to manage staffing to meetday to day needs.  Have broad understanding of complaint handling guidelines and procedures in use to resolve and/or escalate relevant issues.  Have pro actively identified opportunities to exceed goals and targets, recovered from setbacks quickly, and identified newer ways to optimize resources needed to attain objectives\\r',\n",
       "  {'entities': [[0, 8, 'NAME'],\n",
       "    [9, 68, 'DESIGNATION'],\n",
       "    [107, 145, 'EMAIL'],\n",
       "    [485, 531, 'WORKED AT'],\n",
       "    [532, 613, 'WORKED AT']]}],\n",
       " ['Arun Elumalai QA Tester Chennai, Tamil Nadu - Email me on Indeed: indeed.com/r/Arun-Elumalai/26575d617d50ea04 15 Months of Experience as a QA Tester in Software Testing (Mainframe) Experience in Automation, Functional, UI testing and Regression Testing. Involvement in preparation of Test scenarios, Test cases and executing the same. Defect reporting and tracking via Rational Quality Manager. Preparation of test closure reports. WORK EXPERIENCE QA Tester Accenture - November 2016 to March 2018 Associate Software Engineer | Accenture Services Pvt Ltd | Nov 2016 to Mar 2018 Domain: Financial Services - Payments Domain Application: Vision PLUSPROJECT PROFILE Client - First Data Corporation Role - QA Tester Application - VisionPLUS Description and Responsibilities. 1. Have worked in functional releases and tested across clients in the EMEA region. Performed system integration testing for new clients that came into VisionPlus. 2. Automated manual scripts in Regression Testing and Executing the same using Selenium Webdriver through Sauce Labs. 3. Performed UI Testing in First Apply and First Online 4. Tested various functionalities of credit card life cycle like account boarding, embossing, account/card transfer, replacement and reissue of cards. 5. Tested manual and auto enrollment of offers, cashback offers. PERFORMANCE ACHIEVEMENTS Won The Rising Star Award for the year 2017 EDUCATION Bachelor of Engineering in Automobile Engineering https://www.indeed.com/r/Arun-Elumalai/26575d617d50ea04?isid=rex-download&ikw=download-top&co=IN Sri Venkateswara College Of Engineering -  Chennai, Tamil Nadu 2012 to 2016 SKILLS ANSYS (Less than 1 year), CATIA (Less than 1 year), CREO (Less than 1 year), PARAMETRIC(Less than 1 year), PYTHON (Less than 1 year), Selenium, Selenium Webdriver, Testing, Functional Testing, Automation Testing, Regression Testing, Quality Assurance ADDITIONAL INFORMATION TECHNICAL SKILLS Languages - Python Software/Tools - Selenium, WAF, Sauce Labs, Jenkins, Creo parametric 2.0, Catia V6, Ansys Ashalata Bisoyi Transaction Processor - Oracle India Private Limited Bengaluru, Karnataka - Email me on Indeed: indeed.com/r/Ashalata-Bisoyi/cf02125911cfb5df To secure a position an esteem organization with good working culture that will help my career in the field of finance through my sincerity, hard works and skills. WORK EXPERIENCE Transaction Processor Oracle India Private Limited - April 2016 to Present 2 Year of experience with Oracle India Private Limited in expense team. My work is auditing ofexpense reports of employees of all the countries, handling queries through emails and calls also. JOB DESCRIPTION Auditing of expense reports of the employees for all the countries and working on service portal(Answering queries through email) Handling the team in absence of seniors. Working on Payment Rejections, export of expense reports to AP. Take care of running Backlog, Having knowledge about travel advance. EDUCATION Master of Finance and Control in MFC Khallikote Autonomous college -  Brahmapur, Orissa 2015 Bachelor in Commerce Berhampur university -  Brahmapur, Orissa 2013 Accounting Science College, Hinjilicut -  Brahmapur, Orissa 2010 Education Council of Higher Secondary -  Orissa, IN 2008 Government girls High school -  Hinjilikatu, Orissa https://www.indeed.com/r/Ashalata-Bisoyi/cf02125911cfb5df?isid=rex-download&ikw=download-top&co=IN Board of Secondary Education -  Orissa, IN ADDITIONAL INFORMATION Good analytical skills and flexible in work atmosphere. Able to handle complex situation under process Willingness to learn Ability to meet deadlines Every time accept the new challenges OTHER QUALIFICATIONS DOEACC O LEVEL M.S. OFFICE\\r',\n",
       "  {'entities': [[0, 13, 'NAME'],\n",
       "    [66, 109, 'EMAIL'],\n",
       "    [1404, 1453, 'COLLEGE'],\n",
       "    [1741, 1766, 'SKILLS'],\n",
       "    [1768, 1776, 'SKILLS'],\n",
       "    [1778, 1796, 'SKILLS']]}],\n",
       " [\"Ashok Kunam Team Lead - Microsoft- Email me on Indeed: indeed.com/r/Ashok-Kunam/7aac8767aacf10a0 Software Engineering professional with over 2.5 years of experience in development, enhancement, integration, implementation and maintenance of software applications using Oracle Served some of the major clients such as Microsoft, Cisco, Oracle Eloqua, iTalent Knowledge of Operating Systems (OS) coding techniques, Internet Protocol (IP), interfaces and hardware subsystems, reading schematics and data sheets for components Expertise in Java, J2EE, hibernate, spring, PHP, Nifi, Angular JS, JavaScript, JQuery, REST Webservices, Jive, Lithium Successfully developed cloud based connectors using REST Web services and JIVE custom tiles & plugins Proficient in end-to-end implementation of various projects; including designing, development, coding, debugging, analyzing the logs & implementation of software applications Proven skills of understanding business requirements and translating them into technicals Specifications Possess interpersonal, analytical and negotiation skills with proven track record of utilizing aprocess-oriented approach towards the accomplishment of cost, profit, service & organizational goals WORK EXPERIENCE Team Lead Microsoft -July 2017 to Present Environment: Java 1.8, Spring MVC, Hibernate, REST API Calls, Power BI desktop tool, Lithium Bulk data API, SQL Server, Maven, Log 4j, Git, JIRA, Scrum Role: Team Lead Period: July '17 - Till Date Description: Power BI deployed on Lithium Community, 7, 000 Power BI users can collaborate and transfer the knowledge among them. On an average 150 k activity per day in the community. Cloud Connector is required to fetch the all the activities from the community and perform datamining and preserve into database as report generator format Highlights : Provided support in the total software development life cycle of the project◦ Implemented cloud connector to read the Lithium bulk data API , parse the data and insert edit into SQL Server◦ Generated views as per requirements & prepared Power BI reports Organization: iTalent Corporation Title: MyiTalent Client: iTalent https://www.indeed.com/r/Ashok-Kunam/7aac8767aacf10a0?isid=rex-download&ikw=download-top&co=IN Environment: Java 1.8, PHP, REST API Calls, hibernate, Angular JS, CSS, MySQL, Maven, Log4j, Git, JIRA, Linux Role: Team Lead Period: July '17 - Till Date Description: Instantly find and hire the right candidate for your job opening. With My iTalent,corporate human resource managers and hiring managers can now easily manage the hiring process with their recruiters. Review and select from pre-screened candidates that match your requirements. Find and identify experts within your company. Browse project scope of work and details, including budget information. Collaborate with your own personal recruiter at all times.Provide feedback on candidates and projects Highlights:◦ Developed PHP Backend Services◦ Implemented ZOHO integration for jobs and candidates using REST web services◦ Created Cron Job to fetch candidates from ZOHO Organization: iTalent Corporation Title: CSC Client: Cisco Environment: Java 1.8, Spring MVC, Hibernate, REST API Calls, Lithium Bulk data API, MySQL,Maven, Log 4j, Git, JIRA, Scrum Role: Team Lead Period: July '17 - Till Date Description: Migration from Drupal community to the Lithium Community which is enhanced with custom cloud search using Attivio. Highlights:◦ Provided support in the total software development life cycle of the project◦ Implemented cloud connector to read the Lithium bulk data API, parse the data and insert edit into SQL Server◦ Generated views as per requirements & prepared Power BI reports EDUCATION Bachelor of Technology in ECE Jawaharlal Nehru Technology University -  Kakinada, Andhra Pradesh 2014 SKILLS database (Less than 1 year), Git (Less than 1 year), Java (Less than 1 year), JIRA (Less than 1year), life cycle (Less than 1 year) LINKS https://www.linkedin.com/in/ashok-kunam-85a845a8https://www.linkedin.com/in/ashok-kunam-85a845a8 ADDITIONAL INFORMATION Technical Skills Programming Languages: Java & J2EE, PHP, Apache Nifi, SOAP Web Services, Rest Web Services,Jackson-2 Framework's: Spring, Hibernate, Junit, Mockito Database: MYSQL, SQL Server, Oracle App/Web Servers: Tomcat, Apache Operating Systems: Windows, Linux SKM: Lithium Tools: Git, JIRA, Eclipse, putty Knowledge Purview Methodologies and Principles:◦ Code Generation Tools◦ Documentation Generation◦ Inversion of Control◦ Iterative Development◦ Object Oriented Programming◦ Deployment◦ Agile Professional Experience Core Competencies ~ Requirement Gathering ~ Deployment & Support ~ Project Management ~ Software Development Life Cycle ~ Delivery Management ~ Quality Assurance ~ Application / Software Development ~ Liaison & Coordination.\\r\",\n",
       "  {'entities': [[0, 11, 'COLLEGE'],\n",
       "    [12, 34, 'DESIGNATION'],\n",
       "    [55, 96, 'EMAIL'],\n",
       "    [97, 179, 'WORKED AT'],\n",
       "    [496, 540, 'SKILLS'],\n",
       "    [542, 546, 'SKILLS'],\n",
       "    [548, 557, 'SKILLS'],\n",
       "    [559, 565, 'SKILLS'],\n",
       "    [567, 570, 'SKILLS'],\n",
       "    [578, 588, 'SKILLS'],\n",
       "    [610, 626, 'SKILLS'],\n",
       "    [2301, 2311, 'SKILLS'],\n",
       "    [2313, 2316, 'SKILLS'],\n",
       "    [2318, 2323, 'SKILLS'],\n",
       "    [3226, 3231, 'SKILLS'],\n",
       "    [3247, 3250, 'SKILLS'],\n",
       "    [3822, 3849, 'SKILLS'],\n",
       "    [3851, 3873, 'SKILLS'],\n",
       "    [3875, 3898, 'SKILLS'],\n",
       "    [3900, 3922, 'SKILLS'],\n",
       "    [3924, 3953, 'SKILLS'],\n",
       "    [4120, 4131, 'SKILLS'],\n",
       "    [4133, 4136, 'SKILLS'],\n",
       "    [4170, 4187, 'SKILLS'],\n",
       "    [4211, 4217, 'SKILLS'],\n",
       "    [4255, 4260, 'SKILLS'],\n",
       "    [4262, 4272, 'SKILLS']]}],\n",
       " ['Asish Ratha Subject matter Expert - Accenture Chennai, Tamil Nadu - Email me on Indeed: indeed.com/r/Asish-Ratha/853988e0e0e236a3WORK EXPERIENCE Subject matter Expert Accenture -March 2012 to Present Subject matter expert EDUCATION Berhampur university, Khallikote autonomous college -  Brahmapur, Orissa SKILLS Invoice (5 years), posting. (5 years), TRAINING (4 years) ADDITIONAL INFORMATION SKILLS Invoice processing, Team handling, new joiners training.sap posting, vendor call attend and resolve the issue, meet SLA tat, working with client tool. https://www.indeed.com/r/Asish-Ratha/853988e0e0e236a3?isid=rex-download&ikw=download-top&co=IN \\r',\n",
       "  {'entities': [[0, 11, 'NAME'],\n",
       "    [145, 199, 'WORKED AT'],\n",
       "    [312, 329, 'SKILLS']]}]]"
      ]
     },
     "execution_count": 3,
     "metadata": {},
     "output_type": "execute_result"
    }
   ],
   "source": [
    "train_data['annotations']"
   ]
  },
  {
   "cell_type": "code",
   "execution_count": 4,
   "metadata": {},
   "outputs": [
    {
     "name": "stderr",
     "output_type": "stream",
     "text": [
      "100%|██████████| 10/10 [00:00<00:00, 33.21it/s]"
     ]
    },
    {
     "name": "stdout",
     "output_type": "stream",
     "text": [
      "Skipping entity\n"
     ]
    },
    {
     "name": "stderr",
     "output_type": "stream",
     "text": [
      "\n"
     ]
    }
   ],
   "source": [
    "for text,annot in tqdm(train_data['annotations']):\n",
    "    doc=nlp.make_doc(text)\n",
    "    ents=[]\n",
    "    for start,end,label in annot['entities']:\n",
    "        span=doc.char_span(start,end,label=label,alignment_mode='contract')\n",
    "        if span is None:\n",
    "            print('Skipping entity')\n",
    "        else:\n",
    "            ents.append(span)\n",
    "        \n",
    "    doc.ents=ents\n",
    "    db.add(doc)\n",
    "\n",
    "\n",
    "db.to_disk('./training_data.spacy')"
   ]
  },
  {
   "cell_type": "code",
   "execution_count": 13,
   "metadata": {},
   "outputs": [
    {
     "name": "stdout",
     "output_type": "stream",
     "text": [
      "⚠ To generate a more effective transformer-based config (GPU-only), install the\n",
      "spacy-transformers package and re-run this command. The config generated now\n",
      "does not use transformers.\n",
      "ℹ Generated config template specific for your use case\n",
      "- Language: en\n",
      "- Pipeline: ner\n",
      "- Optimize for: efficiency\n",
      "- Hardware: CPU\n",
      "- Transformer: None\n",
      "✔ Auto-filled config with all values\n",
      "✔ Saved config\n",
      "config.cfg\n",
      "You can now add your data and train your pipeline:\n",
      "python -m spacy train config.cfg --paths.train ./train.spacy --paths.dev ./dev.spacy\n"
     ]
    }
   ],
   "source": [
    "!python -m spacy init config config.cfg --lang en --pipeline ner --optimize efficiency"
   ]
  },
  {
   "cell_type": "code",
   "execution_count": 14,
   "metadata": {},
   "outputs": [
    {
     "name": "stdout",
     "output_type": "stream",
     "text": [
      "ℹ Saving to output directory: .\n",
      "ℹ Using CPU\n",
      "\u001b[1m\n",
      "=========================== Initializing pipeline ===========================\u001b[0m\n",
      "✔ Initialized pipeline\n",
      "\u001b[1m\n",
      "============================= Training pipeline =============================\u001b[0m\n",
      "ℹ Pipeline: ['tok2vec', 'ner']\n",
      "ℹ Initial learn rate: 0.001\n",
      "E    #       LOSS TOK2VEC  LOSS NER  ENTS_F  ENTS_P  ENTS_R  SCORE \n",
      "---  ------  ------------  --------  ------  ------  ------  ------\n",
      "  0       0          0.00    289.29    0.00    0.00    0.00    0.00\n",
      " 20     200      10862.08  10566.19   89.07   88.71   89.43    0.89\n",
      " 40     400       2137.72    836.83   98.79   98.39   99.19    0.99\n",
      " 60     600        111.48    166.26   99.19   99.19   99.19    0.99\n",
      " 80     800         56.73     93.89   99.19   99.19   99.19    0.99\n",
      "100    1000        635.11    130.44   99.19   98.40  100.00    0.99\n",
      "120    1200         71.53     82.91   99.19   98.40  100.00    0.99\n",
      "140    1400         54.69     82.67   99.19   99.19   99.19    0.99\n",
      "160    1600         25.44     66.85   99.19   98.40  100.00    0.99\n",
      "180    1800         28.36     61.55   99.19   98.40  100.00    0.99\n",
      "200    2000         50.79     68.21   99.19   99.19   99.19    0.99\n",
      "220    2200        183.47     96.66   99.19   98.40  100.00    0.99\n",
      "240    2400        192.52     84.92   99.19   99.19   99.19    0.99\n",
      "260    2600       2420.48    136.93   99.18  100.00   98.37    0.99\n",
      "✔ Saved pipeline to output directory\n",
      "model-last\n"
     ]
    },
    {
     "name": "stderr",
     "output_type": "stream",
     "text": [
      "[2022-04-22 22:21:36,191] [INFO] Set up nlp object from config\n",
      "[2022-04-22 22:21:36,204] [INFO] Pipeline: ['tok2vec', 'ner']\n",
      "[2022-04-22 22:21:36,209] [INFO] Created vocabulary\n",
      "[2022-04-22 22:21:36,210] [INFO] Finished initializing nlp object\n",
      "[2022-04-22 22:21:37,989] [INFO] Initialized pipeline components: ['tok2vec', 'ner']\n"
     ]
    }
   ],
   "source": [
    "!python -m spacy train config.cfg --output ./ --paths.train ./training_data.spacy --paths.dev ./training_data.spacy"
   ]
  },
  {
   "cell_type": "code",
   "execution_count": 15,
   "metadata": {},
   "outputs": [],
   "source": [
    "nlp_ner=spacy.load('model-best')"
   ]
  },
  {
   "cell_type": "code",
   "execution_count": 16,
   "metadata": {},
   "outputs": [],
   "source": [
    "doc=nlp_ner(''' Abhishek Jha Application Development Associate - Accenture Bengaluru, Karnataka - Email me on Indeed: indeed.com/r/Abhishek-Jha/10e7a8cb732bc43a To work for an organization which provides me the opportunity to improve my skills and knowledge for my individual and company's growth in best possible ways. Willing to relocate to: Bangalore, Karnataka WORK EXPERIENCE Application Development Associate Accenture -November 2017 to Present Role: Currently working on Chat-bot. Developing Backend Oracle PeopleSoft Queries for the Bot w ''')"
   ]
  },
  {
   "cell_type": "code",
   "execution_count": 17,
   "metadata": {},
   "outputs": [
    {
     "data": {
      "text/html": [
       "<span class=\"tex2jax_ignore\"><div class=\"entities\" style=\"line-height: 2.5; direction: ltr\"> Abhishek \n",
       "<mark class=\"entity\" style=\"background: #ddd; padding: 0.45em 0.6em; margin: 0 0.25em; line-height: 1; border-radius: 0.35em;\">\n",
       "    Jha\n",
       "    <span style=\"font-size: 0.8em; font-weight: bold; line-height: 1; border-radius: 0.35em; vertical-align: middle; margin-left: 0.5rem\">SKILLS</span>\n",
       "</mark>\n",
       " \n",
       "<mark class=\"entity\" style=\"background: #ddd; padding: 0.45em 0.6em; margin: 0 0.25em; line-height: 1; border-radius: 0.35em;\">\n",
       "    Application Development Associate - Accenture Bengaluru\n",
       "    <span style=\"font-size: 0.8em; font-weight: bold; line-height: 1; border-radius: 0.35em; vertical-align: middle; margin-left: 0.5rem\">DESIGNATION</span>\n",
       "</mark>\n",
       ", Karnataka - Email me on Indeed: \n",
       "<mark class=\"entity\" style=\"background: #ddd; padding: 0.45em 0.6em; margin: 0 0.25em; line-height: 1; border-radius: 0.35em;\">\n",
       "    indeed.com/r/Abhishek-Jha/10e7a8cb732bc43a\n",
       "    <span style=\"font-size: 0.8em; font-weight: bold; line-height: 1; border-radius: 0.35em; vertical-align: middle; margin-left: 0.5rem\">EMAIL</span>\n",
       "</mark>\n",
       " To work for an organization which provides me the opportunity to improve my skills and knowledge for my individual and company's growth in best possible ways. Willing to relocate to: Bangalore, Karnataka WORK EXPERIENCE Application Development Associate Accenture -November 2017 to Present Role: Currently working on Chat-bot. Developing Backend Oracle PeopleSoft Queries for the Bot w </div></span>"
      ],
      "text/plain": [
       "<IPython.core.display.HTML object>"
      ]
     },
     "metadata": {},
     "output_type": "display_data"
    }
   ],
   "source": [
    "spacy.displacy.render(doc,style='ent',jupyter=True)"
   ]
  }
 ],
 "metadata": {
  "interpreter": {
   "hash": "f2c11f98dfe83998ad6b83e542d3974bd3cebcf4b586cff7fc4834226d47f2fb"
  },
  "kernelspec": {
   "display_name": "Python 3.10.2 ('env': venv)",
   "language": "python",
   "name": "python3"
  },
  "language_info": {
   "codemirror_mode": {
    "name": "ipython",
    "version": 3
   },
   "file_extension": ".py",
   "mimetype": "text/x-python",
   "name": "python",
   "nbconvert_exporter": "python",
   "pygments_lexer": "ipython3",
   "version": "3.10.2"
  },
  "orig_nbformat": 4
 },
 "nbformat": 4,
 "nbformat_minor": 2
}
