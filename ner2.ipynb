{
 "cells": [
  {
   "cell_type": "code",
   "execution_count": null,
   "metadata": {},
   "outputs": [],
   "source": [
    "import spacy\n",
    "from spacy.tokens import DocBin\n",
    "from tqdm import tqdm\n",
    "\n",
    "nlp=spacy.blank('en')  # load a new spacy model\n",
    "db=DocBin()  # create a Docbin object"
   ]
  },
  {
   "cell_type": "code",
   "execution_count": null,
   "metadata": {},
   "outputs": [],
   "source": [
    "import json\n",
    "f=open(\"H:\\\\Ner_Model\\\\him.json\",encoding=\"utf8\")\n",
    "train_data=json.load(f)"
   ]
  },
  {
   "cell_type": "code",
   "execution_count": null,
   "metadata": {},
   "outputs": [],
   "source": [
    "train_data[0]"
   ]
  },
  {
   "cell_type": "code",
   "execution_count": null,
   "metadata": {},
   "outputs": [],
   "source": [
    "train_data=train_data['annotations']\n",
    "for text,annot in tqdm(train_data):\n",
    "    print(text)\n",
    "    doc=nlp.make_doc(text)\n",
    "    ents=[]\n",
    "    for start,end,label in annot['entities']:\n",
    "        span=doc.char_span(start,end,label=label,alignment_mode='contract')\n",
    "        if span is None:\n",
    "            print('Skipping entity')\n",
    "        else:\n",
    "            ents.append(span)\n",
    "        \n",
    "    doc.ents=ents\n",
    "    db.add(doc)\n",
    "\n",
    "db.to_disk('./training_data1.spacy')"
   ]
  }
 ],
 "metadata": {
  "interpreter": {
   "hash": "f2c11f98dfe83998ad6b83e542d3974bd3cebcf4b586cff7fc4834226d47f2fb"
  },
  "kernelspec": {
   "display_name": "Python 3.10.2 ('env': venv)",
   "language": "python",
   "name": "python3"
  },
  "language_info": {
   "codemirror_mode": {
    "name": "ipython",
    "version": 3
   },
   "file_extension": ".py",
   "mimetype": "text/x-python",
   "name": "python",
   "nbconvert_exporter": "python",
   "pygments_lexer": "ipython3",
   "version": "3.10.2"
  },
  "orig_nbformat": 4
 },
 "nbformat": 4,
 "nbformat_minor": 2
}
